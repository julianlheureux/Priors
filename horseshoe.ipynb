{
 "cells": [
  {
   "cell_type": "code",
   "execution_count": 1,
   "metadata": {},
   "outputs": [],
   "source": []
  },
  {
   "cell_type": "code",
   "execution_count": 11,
   "metadata": {},
   "outputs": [],
   "source": [
    "import arviz as az\n",
    "import numpy as np\n",
    "import pymc as pm\n",
    "\n",
    "D = 50  # Cantidad de predictores\n",
    "D0 = 5  # Cantidad de predictores cuyo 'beta' es distinto de 0\n",
    "\n",
    "# Armamos el generador (para que los resultados sean reproducibles)\n",
    "SEED = 12345\n",
    "rng = np.random.default_rng(SEED)\n",
    "\n",
    "INTERCEPT = rng.uniform(-3, 3)\n",
    "\n",
    "BETAS = np.zeros(D)\n",
    "BETAS[:D0] = rng.choice([-1, 1], size=D0) * rng.normal(5, 1, size=D0)\n",
    "\n",
    "N = 100\n",
    "\n",
    "X = rng.normal(size=(N, D))\n",
    "\n",
    "SIGMA = 1.\n",
    "\n",
    "mu = INTERCEPT + np.dot(X, BETAS) \n",
    "y = rng.normal(mu, SIGMA, size=N)\n",
    "\n",
    "X.shape, mu.shape, y.shape"
   ]
  },
  {
   "cell_type": "code",
   "execution_count": 13,
   "metadata": {},
   "outputs": [
    {
     "data": {
      "text/plain": [
       "((100, 50), (100,), (100,))"
      ]
     },
     "execution_count": 13,
     "metadata": {},
     "output_type": "execute_result"
    }
   ],
   "source": []
  },
  {
   "cell_type": "code",
   "execution_count": null,
   "metadata": {},
   "outputs": [],
   "source": []
  },
  {
   "cell_type": "code",
   "execution_count": null,
   "metadata": {},
   "outputs": [],
   "source": []
  }
 ],
 "metadata": {
  "kernelspec": {
   "display_name": "bambi-dev",
   "language": "python",
   "name": "python3"
  },
  "language_info": {
   "codemirror_mode": {
    "name": "ipython",
    "version": 3
   },
   "file_extension": ".py",
   "mimetype": "text/x-python",
   "name": "python",
   "nbconvert_exporter": "python",
   "pygments_lexer": "ipython3",
   "version": "3.11.9"
  }
 },
 "nbformat": 4,
 "nbformat_minor": 2
}
