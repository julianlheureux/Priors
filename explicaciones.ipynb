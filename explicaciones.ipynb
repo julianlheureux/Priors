{
 "cells": [
  {
   "cell_type": "markdown",
   "metadata": {},
   "source": [
    "## Familia"
   ]
  },
  {
   "cell_type": "markdown",
   "metadata": {},
   "source": [
    "glm(y ~ 1 + x, family = \"binomial\")\n",
    "glm(y ~ 1 + x, family = \"bernoulli\")\n",
    "glm(y ~ 1 + x, family = \"poisson\")\n",
    "glm(y ~ 1 + x, family = \"gaussian\")"
   ]
  },
  {
   "cell_type": "markdown",
   "metadata": {
    "vscode": {
     "languageId": "plaintext"
    }
   },
   "source": [
    "$$\n",
    "\\begin{aligned}\n",
    "Y_i &\\mid \\mu_i \\sim \\text{Likelihood}(\\mu_i, \\boldsymbol{\\theta})\\\\\n",
    "g(\\mu_i) &= \\beta_0 + \\beta_1 x_i\n",
    "\\end{aligned}\n",
    "$$"
   ]
  },
  {
   "cell_type": "markdown",
   "metadata": {},
   "source": [
    "$$\n",
    "\\begin{aligned}\n",
    "Y_i &\\mid \\mu_i \\sim \\text{Normal}(\\mu_i, \\sigma_i) \\\\\n",
    "g(\\mu_i) &= \\beta_0 + \\beta_1 x_i \\\\\n",
    "h(\\sigma_i) &= \\alpha_0 + \\alpha_1 x_i \\\\\n",
    "\\end{aligned}\n",
    "$$"
   ]
  },
  {
   "cell_type": "code",
   "execution_count": null,
   "metadata": {},
   "outputs": [],
   "source": [
    "glm(y ~ 1 + x + z, family = \"gaussian\")\n",
    "glm(y ~ 1 + x + z, family = \"bernoulli\")"
   ]
  },
  {
   "cell_type": "markdown",
   "metadata": {},
   "source": [
    "## Priors\n",
    "\n",
    "Para algunas familias, y algunos parametros de esas familias, Bambi provee priors automáticos \"un poco mas inteligentes\".\n",
    "\n",
    "El escalado automatico de prios pasa en PriorScaler."
   ]
  },
  {
   "cell_type": "markdown",
   "metadata": {},
   "source": [
    "## `common` and `group_specific` parameters\n"
   ]
  },
  {
   "cell_type": "code",
   "execution_count": null,
   "metadata": {},
   "outputs": [],
   "source": [
    "# Modelo que hace caso omiso a los grupos y usa una media global\n",
    "\n",
    "y ~ 1\n",
    "\n",
    "# Modelo con interceptos independientes para cada nivel en `group`\n",
    "\n",
    "y ~ group\n",
    "\n",
    "o\n",
    "\n",
    "y ~ 0 + group\n",
    "\n",
    "# Modelo con interceptos aleatorios para cada nivel en `group`\n",
    "\n",
    "y ~ 1 + (1 | group)"
   ]
  },
  {
   "cell_type": "code",
   "execution_count": null,
   "metadata": {},
   "outputs": [],
   "source": [
    "`common` son los efectos fijos\n",
    "`group_specific` son los efectos aleatorios"
   ]
  },
  {
   "cell_type": "markdown",
   "metadata": {},
   "source": [
    "## r2d2, r2d2m2, etc."
   ]
  },
  {
   "cell_type": "markdown",
   "metadata": {
    "vscode": {
     "languageId": "plaintext"
    }
   },
   "source": [
    "$$\n",
    "\\begin{aligned}\n",
    "Y_i &\\sim \\text{Normal}(\\mu_{j[i]}, \\sigma^2) \\\\\n",
    "\\mu_j & \\sim \\text{Normal}(\\boldsymbol{\\theta}) & \\text{para todo } j\n",
    "\\end{aligned}\n",
    "$$\n",
    "\n",
    "j = 1, ..., 5"
   ]
  },
  {
   "cell_type": "code",
   "execution_count": 1,
   "metadata": {},
   "outputs": [
    {
     "name": "stderr",
     "output_type": "stream",
     "text": [
      "Auto-assigning NUTS sampler...\n",
      "Initializing NUTS using jitter+adapt_diag...\n",
      "Multiprocess sampling (2 chains in 2 jobs)\n",
      "NUTS: [mu_1, mu_2, mu_3, mu_4, mu_5]\n"
     ]
    },
    {
     "data": {
      "application/vnd.jupyter.widget-view+json": {
       "model_id": "9f2cc0c8cd8042849661701d0c248423",
       "version_major": 2,
       "version_minor": 0
      },
      "text/plain": [
       "Output()"
      ]
     },
     "metadata": {},
     "output_type": "display_data"
    },
    {
     "data": {
      "text/html": [
       "<pre style=\"white-space:pre;overflow-x:auto;line-height:normal;font-family:Menlo,'DejaVu Sans Mono',consolas,'Courier New',monospace\"></pre>\n"
      ],
      "text/plain": []
     },
     "metadata": {},
     "output_type": "display_data"
    },
    {
     "data": {
      "text/html": [
       "<pre style=\"white-space:pre;overflow-x:auto;line-height:normal;font-family:Menlo,'DejaVu Sans Mono',consolas,'Courier New',monospace\">\n",
       "</pre>\n"
      ],
      "text/plain": [
       "\n"
      ]
     },
     "metadata": {},
     "output_type": "display_data"
    },
    {
     "name": "stderr",
     "output_type": "stream",
     "text": [
      "Sampling 2 chains for 1_000 tune and 1_000 draw iterations (2_000 + 2_000 draws total) took 4 seconds.\n",
      "We recommend running at least 4 chains for robust computation of convergence diagnostics\n"
     ]
    },
    {
     "data": {
      "text/html": [
       "<div>\n",
       "<style scoped>\n",
       "    .dataframe tbody tr th:only-of-type {\n",
       "        vertical-align: middle;\n",
       "    }\n",
       "\n",
       "    .dataframe tbody tr th {\n",
       "        vertical-align: top;\n",
       "    }\n",
       "\n",
       "    .dataframe thead th {\n",
       "        text-align: right;\n",
       "    }\n",
       "</style>\n",
       "<table border=\"1\" class=\"dataframe\">\n",
       "  <thead>\n",
       "    <tr style=\"text-align: right;\">\n",
       "      <th></th>\n",
       "      <th>mean</th>\n",
       "      <th>sd</th>\n",
       "      <th>hdi_3%</th>\n",
       "      <th>hdi_97%</th>\n",
       "      <th>mcse_mean</th>\n",
       "      <th>mcse_sd</th>\n",
       "      <th>ess_bulk</th>\n",
       "      <th>ess_tail</th>\n",
       "      <th>r_hat</th>\n",
       "    </tr>\n",
       "  </thead>\n",
       "  <tbody>\n",
       "    <tr>\n",
       "      <th>mu_1</th>\n",
       "      <td>0.009</td>\n",
       "      <td>1.067</td>\n",
       "      <td>-2.027</td>\n",
       "      <td>1.954</td>\n",
       "      <td>0.020</td>\n",
       "      <td>0.021</td>\n",
       "      <td>2927.0</td>\n",
       "      <td>1873.0</td>\n",
       "      <td>1.00</td>\n",
       "    </tr>\n",
       "    <tr>\n",
       "      <th>mu_2</th>\n",
       "      <td>-0.017</td>\n",
       "      <td>0.975</td>\n",
       "      <td>-1.760</td>\n",
       "      <td>1.901</td>\n",
       "      <td>0.016</td>\n",
       "      <td>0.021</td>\n",
       "      <td>3718.0</td>\n",
       "      <td>1589.0</td>\n",
       "      <td>1.01</td>\n",
       "    </tr>\n",
       "    <tr>\n",
       "      <th>mu_3</th>\n",
       "      <td>-0.006</td>\n",
       "      <td>0.998</td>\n",
       "      <td>-1.806</td>\n",
       "      <td>1.897</td>\n",
       "      <td>0.016</td>\n",
       "      <td>0.024</td>\n",
       "      <td>3980.0</td>\n",
       "      <td>1511.0</td>\n",
       "      <td>1.00</td>\n",
       "    </tr>\n",
       "    <tr>\n",
       "      <th>mu_4</th>\n",
       "      <td>-0.015</td>\n",
       "      <td>1.020</td>\n",
       "      <td>-1.914</td>\n",
       "      <td>1.924</td>\n",
       "      <td>0.017</td>\n",
       "      <td>0.022</td>\n",
       "      <td>3595.0</td>\n",
       "      <td>1689.0</td>\n",
       "      <td>1.00</td>\n",
       "    </tr>\n",
       "    <tr>\n",
       "      <th>mu_5</th>\n",
       "      <td>-0.002</td>\n",
       "      <td>0.983</td>\n",
       "      <td>-1.713</td>\n",
       "      <td>1.963</td>\n",
       "      <td>0.017</td>\n",
       "      <td>0.021</td>\n",
       "      <td>3217.0</td>\n",
       "      <td>1791.0</td>\n",
       "      <td>1.00</td>\n",
       "    </tr>\n",
       "  </tbody>\n",
       "</table>\n",
       "</div>"
      ],
      "text/plain": [
       "       mean     sd  hdi_3%  hdi_97%  mcse_mean  mcse_sd  ess_bulk  ess_tail  \\\n",
       "mu_1  0.009  1.067  -2.027    1.954      0.020    0.021    2927.0    1873.0   \n",
       "mu_2 -0.017  0.975  -1.760    1.901      0.016    0.021    3718.0    1589.0   \n",
       "mu_3 -0.006  0.998  -1.806    1.897      0.016    0.024    3980.0    1511.0   \n",
       "mu_4 -0.015  1.020  -1.914    1.924      0.017    0.022    3595.0    1689.0   \n",
       "mu_5 -0.002  0.983  -1.713    1.963      0.017    0.021    3217.0    1791.0   \n",
       "\n",
       "      r_hat  \n",
       "mu_1   1.00  \n",
       "mu_2   1.01  \n",
       "mu_3   1.00  \n",
       "mu_4   1.00  \n",
       "mu_5   1.00  "
      ]
     },
     "execution_count": 1,
     "metadata": {},
     "output_type": "execute_result"
    }
   ],
   "source": [
    "import arviz as az\n",
    "import pymc as pm\n",
    "\n",
    "# Opcion a lo bruto\n",
    "with pm.Model():\n",
    "    mu_1 = pm.Normal(\"mu_1\")\n",
    "    mu_2 = pm.Normal(\"mu_2\")\n",
    "    mu_3 = pm.Normal(\"mu_3\")\n",
    "    mu_4 = pm.Normal(\"mu_4\")\n",
    "    mu_5 = pm.Normal(\"mu_5\")\n",
    "    idata = pm.sample()\n",
    "\n",
    "az.summary(idata)"
   ]
  },
  {
   "cell_type": "code",
   "execution_count": 2,
   "metadata": {},
   "outputs": [
    {
     "name": "stderr",
     "output_type": "stream",
     "text": [
      "Auto-assigning NUTS sampler...\n",
      "Initializing NUTS using jitter+adapt_diag...\n",
      "Multiprocess sampling (2 chains in 2 jobs)\n",
      "NUTS: [mu]\n"
     ]
    },
    {
     "data": {
      "application/vnd.jupyter.widget-view+json": {
       "model_id": "936e06d94c2f433aa1e06d909dc89209",
       "version_major": 2,
       "version_minor": 0
      },
      "text/plain": [
       "Output()"
      ]
     },
     "metadata": {},
     "output_type": "display_data"
    },
    {
     "data": {
      "text/html": [
       "<pre style=\"white-space:pre;overflow-x:auto;line-height:normal;font-family:Menlo,'DejaVu Sans Mono',consolas,'Courier New',monospace\"></pre>\n"
      ],
      "text/plain": []
     },
     "metadata": {},
     "output_type": "display_data"
    },
    {
     "data": {
      "text/html": [
       "<pre style=\"white-space:pre;overflow-x:auto;line-height:normal;font-family:Menlo,'DejaVu Sans Mono',consolas,'Courier New',monospace\">\n",
       "</pre>\n"
      ],
      "text/plain": [
       "\n"
      ]
     },
     "metadata": {},
     "output_type": "display_data"
    },
    {
     "name": "stderr",
     "output_type": "stream",
     "text": [
      "Sampling 2 chains for 1_000 tune and 1_000 draw iterations (2_000 + 2_000 draws total) took 2 seconds.\n",
      "We recommend running at least 4 chains for robust computation of convergence diagnostics\n"
     ]
    },
    {
     "data": {
      "text/html": [
       "<div>\n",
       "<style scoped>\n",
       "    .dataframe tbody tr th:only-of-type {\n",
       "        vertical-align: middle;\n",
       "    }\n",
       "\n",
       "    .dataframe tbody tr th {\n",
       "        vertical-align: top;\n",
       "    }\n",
       "\n",
       "    .dataframe thead th {\n",
       "        text-align: right;\n",
       "    }\n",
       "</style>\n",
       "<table border=\"1\" class=\"dataframe\">\n",
       "  <thead>\n",
       "    <tr style=\"text-align: right;\">\n",
       "      <th></th>\n",
       "      <th>mean</th>\n",
       "      <th>sd</th>\n",
       "      <th>hdi_3%</th>\n",
       "      <th>hdi_97%</th>\n",
       "      <th>mcse_mean</th>\n",
       "      <th>mcse_sd</th>\n",
       "      <th>ess_bulk</th>\n",
       "      <th>ess_tail</th>\n",
       "      <th>r_hat</th>\n",
       "    </tr>\n",
       "  </thead>\n",
       "  <tbody>\n",
       "    <tr>\n",
       "      <th>mu[0]</th>\n",
       "      <td>-0.003</td>\n",
       "      <td>1.014</td>\n",
       "      <td>-1.777</td>\n",
       "      <td>2.056</td>\n",
       "      <td>0.017</td>\n",
       "      <td>0.023</td>\n",
       "      <td>3530.0</td>\n",
       "      <td>1191.0</td>\n",
       "      <td>1.0</td>\n",
       "    </tr>\n",
       "    <tr>\n",
       "      <th>mu[1]</th>\n",
       "      <td>0.020</td>\n",
       "      <td>0.994</td>\n",
       "      <td>-1.851</td>\n",
       "      <td>1.819</td>\n",
       "      <td>0.019</td>\n",
       "      <td>0.022</td>\n",
       "      <td>2885.0</td>\n",
       "      <td>1507.0</td>\n",
       "      <td>1.0</td>\n",
       "    </tr>\n",
       "    <tr>\n",
       "      <th>mu[2]</th>\n",
       "      <td>-0.000</td>\n",
       "      <td>0.984</td>\n",
       "      <td>-1.667</td>\n",
       "      <td>1.994</td>\n",
       "      <td>0.017</td>\n",
       "      <td>0.022</td>\n",
       "      <td>3536.0</td>\n",
       "      <td>1451.0</td>\n",
       "      <td>1.0</td>\n",
       "    </tr>\n",
       "    <tr>\n",
       "      <th>mu[3]</th>\n",
       "      <td>0.012</td>\n",
       "      <td>0.986</td>\n",
       "      <td>-1.981</td>\n",
       "      <td>1.739</td>\n",
       "      <td>0.016</td>\n",
       "      <td>0.022</td>\n",
       "      <td>3743.0</td>\n",
       "      <td>1629.0</td>\n",
       "      <td>1.0</td>\n",
       "    </tr>\n",
       "    <tr>\n",
       "      <th>mu[4]</th>\n",
       "      <td>-0.004</td>\n",
       "      <td>0.994</td>\n",
       "      <td>-1.863</td>\n",
       "      <td>1.810</td>\n",
       "      <td>0.017</td>\n",
       "      <td>0.023</td>\n",
       "      <td>3201.0</td>\n",
       "      <td>1481.0</td>\n",
       "      <td>1.0</td>\n",
       "    </tr>\n",
       "  </tbody>\n",
       "</table>\n",
       "</div>"
      ],
      "text/plain": [
       "        mean     sd  hdi_3%  hdi_97%  mcse_mean  mcse_sd  ess_bulk  ess_tail  \\\n",
       "mu[0] -0.003  1.014  -1.777    2.056      0.017    0.023    3530.0    1191.0   \n",
       "mu[1]  0.020  0.994  -1.851    1.819      0.019    0.022    2885.0    1507.0   \n",
       "mu[2] -0.000  0.984  -1.667    1.994      0.017    0.022    3536.0    1451.0   \n",
       "mu[3]  0.012  0.986  -1.981    1.739      0.016    0.022    3743.0    1629.0   \n",
       "mu[4] -0.004  0.994  -1.863    1.810      0.017    0.023    3201.0    1481.0   \n",
       "\n",
       "       r_hat  \n",
       "mu[0]    1.0  \n",
       "mu[1]    1.0  \n",
       "mu[2]    1.0  \n",
       "mu[3]    1.0  \n",
       "mu[4]    1.0  "
      ]
     },
     "execution_count": 2,
     "metadata": {},
     "output_type": "execute_result"
    }
   ],
   "source": [
    "# Opcion con 'shape'\n",
    "with pm.Model():\n",
    "    mu = pm.Normal(\"mu\", shape=5) # Esto es un vector de 'mu's\n",
    "    idata = pm.sample()\n",
    "\n",
    "az.summary(idata)"
   ]
  },
  {
   "cell_type": "code",
   "execution_count": 3,
   "metadata": {},
   "outputs": [
    {
     "name": "stderr",
     "output_type": "stream",
     "text": [
      "Auto-assigning NUTS sampler...\n",
      "Initializing NUTS using jitter+adapt_diag...\n",
      "Multiprocess sampling (2 chains in 2 jobs)\n",
      "NUTS: [mu]\n"
     ]
    },
    {
     "data": {
      "application/vnd.jupyter.widget-view+json": {
       "model_id": "6072117661594beb954f1788c56a5b6e",
       "version_major": 2,
       "version_minor": 0
      },
      "text/plain": [
       "Output()"
      ]
     },
     "metadata": {},
     "output_type": "display_data"
    },
    {
     "data": {
      "text/html": [
       "<pre style=\"white-space:pre;overflow-x:auto;line-height:normal;font-family:Menlo,'DejaVu Sans Mono',consolas,'Courier New',monospace\"></pre>\n"
      ],
      "text/plain": []
     },
     "metadata": {},
     "output_type": "display_data"
    },
    {
     "data": {
      "text/html": [
       "<pre style=\"white-space:pre;overflow-x:auto;line-height:normal;font-family:Menlo,'DejaVu Sans Mono',consolas,'Courier New',monospace\">\n",
       "</pre>\n"
      ],
      "text/plain": [
       "\n"
      ]
     },
     "metadata": {},
     "output_type": "display_data"
    },
    {
     "name": "stderr",
     "output_type": "stream",
     "text": [
      "Sampling 2 chains for 1_000 tune and 1_000 draw iterations (2_000 + 2_000 draws total) took 3 seconds.\n",
      "We recommend running at least 4 chains for robust computation of convergence diagnostics\n"
     ]
    },
    {
     "data": {
      "text/html": [
       "<div>\n",
       "<style scoped>\n",
       "    .dataframe tbody tr th:only-of-type {\n",
       "        vertical-align: middle;\n",
       "    }\n",
       "\n",
       "    .dataframe tbody tr th {\n",
       "        vertical-align: top;\n",
       "    }\n",
       "\n",
       "    .dataframe thead th {\n",
       "        text-align: right;\n",
       "    }\n",
       "</style>\n",
       "<table border=\"1\" class=\"dataframe\">\n",
       "  <thead>\n",
       "    <tr style=\"text-align: right;\">\n",
       "      <th></th>\n",
       "      <th>mean</th>\n",
       "      <th>sd</th>\n",
       "      <th>hdi_3%</th>\n",
       "      <th>hdi_97%</th>\n",
       "      <th>mcse_mean</th>\n",
       "      <th>mcse_sd</th>\n",
       "      <th>ess_bulk</th>\n",
       "      <th>ess_tail</th>\n",
       "      <th>r_hat</th>\n",
       "    </tr>\n",
       "  </thead>\n",
       "  <tbody>\n",
       "    <tr>\n",
       "      <th>mu[A]</th>\n",
       "      <td>-0.009</td>\n",
       "      <td>0.976</td>\n",
       "      <td>-1.678</td>\n",
       "      <td>1.917</td>\n",
       "      <td>0.016</td>\n",
       "      <td>0.023</td>\n",
       "      <td>3730.0</td>\n",
       "      <td>1539.0</td>\n",
       "      <td>1.0</td>\n",
       "    </tr>\n",
       "    <tr>\n",
       "      <th>mu[B]</th>\n",
       "      <td>-0.014</td>\n",
       "      <td>0.998</td>\n",
       "      <td>-2.039</td>\n",
       "      <td>1.729</td>\n",
       "      <td>0.021</td>\n",
       "      <td>0.021</td>\n",
       "      <td>2224.0</td>\n",
       "      <td>1499.0</td>\n",
       "      <td>1.0</td>\n",
       "    </tr>\n",
       "    <tr>\n",
       "      <th>mu[C]</th>\n",
       "      <td>-0.025</td>\n",
       "      <td>0.987</td>\n",
       "      <td>-1.882</td>\n",
       "      <td>1.912</td>\n",
       "      <td>0.016</td>\n",
       "      <td>0.022</td>\n",
       "      <td>3884.0</td>\n",
       "      <td>1604.0</td>\n",
       "      <td>1.0</td>\n",
       "    </tr>\n",
       "    <tr>\n",
       "      <th>mu[D]</th>\n",
       "      <td>-0.001</td>\n",
       "      <td>1.013</td>\n",
       "      <td>-1.908</td>\n",
       "      <td>1.869</td>\n",
       "      <td>0.015</td>\n",
       "      <td>0.022</td>\n",
       "      <td>4575.0</td>\n",
       "      <td>1467.0</td>\n",
       "      <td>1.0</td>\n",
       "    </tr>\n",
       "    <tr>\n",
       "      <th>mu[E]</th>\n",
       "      <td>0.031</td>\n",
       "      <td>1.015</td>\n",
       "      <td>-1.890</td>\n",
       "      <td>1.963</td>\n",
       "      <td>0.019</td>\n",
       "      <td>0.020</td>\n",
       "      <td>2838.0</td>\n",
       "      <td>1748.0</td>\n",
       "      <td>1.0</td>\n",
       "    </tr>\n",
       "  </tbody>\n",
       "</table>\n",
       "</div>"
      ],
      "text/plain": [
       "        mean     sd  hdi_3%  hdi_97%  mcse_mean  mcse_sd  ess_bulk  ess_tail  \\\n",
       "mu[A] -0.009  0.976  -1.678    1.917      0.016    0.023    3730.0    1539.0   \n",
       "mu[B] -0.014  0.998  -2.039    1.729      0.021    0.021    2224.0    1499.0   \n",
       "mu[C] -0.025  0.987  -1.882    1.912      0.016    0.022    3884.0    1604.0   \n",
       "mu[D] -0.001  1.013  -1.908    1.869      0.015    0.022    4575.0    1467.0   \n",
       "mu[E]  0.031  1.015  -1.890    1.963      0.019    0.020    2838.0    1748.0   \n",
       "\n",
       "       r_hat  \n",
       "mu[A]    1.0  \n",
       "mu[B]    1.0  \n",
       "mu[C]    1.0  \n",
       "mu[D]    1.0  \n",
       "mu[E]    1.0  "
      ]
     },
     "execution_count": 3,
     "metadata": {},
     "output_type": "execute_result"
    }
   ],
   "source": [
    "# Opcion con \"dims\", es como con \"shape\", pero le pone etiquetas automaticamente\n",
    "coords = {\"grupo\": list(\"ABCDE\")}\n",
    "with pm.Model(coords=coords):\n",
    "    mu = pm.Normal(\"mu\", dims=\"grupo\")\n",
    "    idata = pm.sample()\n",
    "\n",
    "az.summary(idata)"
   ]
  }
 ],
 "metadata": {
  "kernelspec": {
   "display_name": "Python 3 (ipykernel)",
   "language": "python",
   "name": "python3"
  },
  "language_info": {
   "codemirror_mode": {
    "name": "ipython",
    "version": 3
   },
   "file_extension": ".py",
   "mimetype": "text/x-python",
   "name": "python",
   "nbconvert_exporter": "python",
   "pygments_lexer": "ipython3",
   "version": "3.10.12"
  }
 },
 "nbformat": 4,
 "nbformat_minor": 4
}
