{
 "cells": [
  {
   "cell_type": "markdown",
   "metadata": {},
   "source": [
    "# Ejemplo logística"
   ]
  },
  {
   "cell_type": "code",
   "execution_count": 3,
   "metadata": {},
   "outputs": [
    {
     "name": "stdout",
     "output_type": "stream",
     "text": [
      "         X1        X2        X3        X4        X5  y\n",
      "0  0.496714  1.399355 -0.675178 -1.907808 -0.863494  1\n",
      "1 -0.138264  0.924634 -0.144519 -0.860385 -0.031203  0\n",
      "2  0.647689  0.059630 -0.792420 -0.413606  0.018017  1\n",
      "3  1.523030 -0.646937 -0.307962  1.887688  0.472630  1\n",
      "4 -0.234153  0.698223 -1.893615  0.556553 -1.366858  0\n"
     ]
    }
   ],
   "source": [
    "import numpy as np\n",
    "import pandas as pd\n",
    "\n",
    "# Set the random seed for reproducibility\n",
    "np.random.seed(42)\n",
    "\n",
    "# Number of observations\n",
    "n = 1000\n",
    "\n",
    "# Generate 5 explanatory variables from a normal distribution\n",
    "X1 = np.random.normal(size=n)\n",
    "X2 = np.random.normal(size=n)\n",
    "X3 = np.random.normal(size=n)\n",
    "X4 = np.random.normal(size=n)\n",
    "X5 = np.random.normal(size=n)\n",
    "\n",
    "# Combine into a single array\n",
    "X = np.column_stack([X1, X2, X3, X4, X5])\n",
    "\n",
    "# Coefficients for the logistic regression\n",
    "beta = np.array([4, -3, 1, -2, 0.5])\n",
    "\n",
    "# Linear predictor (logit function)\n",
    "eta = X.dot(beta)\n",
    "\n",
    "# Simulate the binary response variable\n",
    "p = 1 / (1 + np.exp(-eta))  # logistic function\n",
    "y = np.random.binomial(1, p, size=n)\n",
    "\n",
    "# Combine into a DataFrame\n",
    "data = pd.DataFrame(X, columns=['X1', 'X2', 'X3', 'X4', 'X5'])\n",
    "data['y'] = y\n",
    "\n",
    "# Display the first few rows of the DataFrame\n",
    "print(data.head())\n"
   ]
  },
  {
   "cell_type": "code",
   "execution_count": 5,
   "metadata": {},
   "outputs": [
    {
     "name": "stderr",
     "output_type": "stream",
     "text": [
      "Auto-assigning NUTS sampler...\n",
      "Initializing NUTS using jitter+adapt_diag...\n",
      "Multiprocess sampling (4 chains in 4 jobs)\n",
      "NUTS: [beta, intercept]\n"
     ]
    },
    {
     "data": {
      "application/vnd.jupyter.widget-view+json": {
       "model_id": "ae7ae7143caf46f0ae591abf86129aef",
       "version_major": 2,
       "version_minor": 0
      },
      "text/plain": [
       "Output()"
      ]
     },
     "metadata": {},
     "output_type": "display_data"
    },
    {
     "data": {
      "text/html": [
       "<pre style=\"white-space:pre;overflow-x:auto;line-height:normal;font-family:Menlo,'DejaVu Sans Mono',consolas,'Courier New',monospace\"></pre>\n"
      ],
      "text/plain": []
     },
     "metadata": {},
     "output_type": "display_data"
    },
    {
     "data": {
      "text/html": [
       "<pre style=\"white-space:pre;overflow-x:auto;line-height:normal;font-family:Menlo,'DejaVu Sans Mono',consolas,'Courier New',monospace\">\n",
       "</pre>\n"
      ],
      "text/plain": [
       "\n"
      ]
     },
     "metadata": {},
     "output_type": "display_data"
    },
    {
     "name": "stderr",
     "output_type": "stream",
     "text": [
      "Sampling 4 chains for 1_000 tune and 4_000 draw iterations (4_000 + 16_000 draws total) took 17 seconds.\n"
     ]
    },
    {
     "name": "stdout",
     "output_type": "stream",
     "text": [
      "          mean     sd  hdi_3%  hdi_97%  mcse_mean  mcse_sd  ess_bulk  \\\n",
      "beta[0]  4.194  0.314   3.618    4.792      0.003    0.002    9728.0   \n",
      "beta[1] -3.347  0.263  -3.837   -2.854      0.003    0.002   10081.0   \n",
      "beta[2]  0.777  0.143   0.505    1.046      0.001    0.001   12828.0   \n",
      "beta[3] -2.031  0.185  -2.372   -1.679      0.002    0.001   10481.0   \n",
      "beta[4]  0.785  0.142   0.516    1.050      0.001    0.001   13992.0   \n",
      "...        ...    ...     ...      ...        ...      ...       ...   \n",
      "p[995]   0.010  0.004   0.004    0.017      0.000    0.000   10226.0   \n",
      "p[996]   1.000  0.000   1.000    1.000      0.000    0.000    8928.0   \n",
      "p[997]   1.000  0.000   0.999    1.000      0.000    0.000   10811.0   \n",
      "p[998]   0.017  0.007   0.006    0.029      0.000    0.000   11685.0   \n",
      "p[999]   0.970  0.009   0.953    0.986      0.000    0.000   11974.0   \n",
      "\n",
      "         ess_tail  r_hat  \n",
      "beta[0]    9543.0    1.0  \n",
      "beta[1]   10622.0    1.0  \n",
      "beta[2]   10218.0    1.0  \n",
      "beta[3]   10773.0    1.0  \n",
      "beta[4]   11271.0    1.0  \n",
      "...           ...    ...  \n",
      "p[995]    10255.0    1.0  \n",
      "p[996]     9219.0    1.0  \n",
      "p[997]    10408.0    1.0  \n",
      "p[998]    11427.0    1.0  \n",
      "p[999]    11004.0    1.0  \n",
      "\n",
      "[1006 rows x 9 columns]\n"
     ]
    }
   ],
   "source": [
    "import pymc as pm\n",
    "import arviz as az\n",
    "\n",
    "# Define the model\n",
    "with pm.Model() as logistic_model:\n",
    "    # Priors for the regression coefficients\n",
    "    beta = pm.Normal('beta', mu=0, sigma=5, shape=5)\n",
    "    \n",
    "    # Prior for the intercept\n",
    "    intercept = pm.Normal('intercept', mu=0, sigma=5)\n",
    "    \n",
    "    # Linear predictor\n",
    "    eta = intercept + pm.math.dot(data[['X1', 'X2', 'X3', 'X4', 'X5']], beta)\n",
    "    \n",
    "    # Likelihood (Bernoulli distribution)\n",
    "    p = pm.Deterministic('p', pm.math.sigmoid(eta))\n",
    "    y_obs = pm.Bernoulli('y_obs', p=p, observed=data['y'])\n",
    "    \n",
    "    # Inference\n",
    "    trace = pm.sample(4000, return_inferencedata=True)\n",
    "\n",
    "# Print the summary of the posterior distributions\n",
    "print(az.summary(trace))\n"
   ]
  },
  {
   "cell_type": "code",
   "execution_count": null,
   "metadata": {},
   "outputs": [],
   "source": []
  }
 ],
 "metadata": {
  "kernelspec": {
   "display_name": "Python 3 (ipykernel)",
   "language": "python",
   "name": "python3"
  },
  "language_info": {
   "codemirror_mode": {
    "name": "ipython",
    "version": 3
   },
   "file_extension": ".py",
   "mimetype": "text/x-python",
   "name": "python",
   "nbconvert_exporter": "python",
   "pygments_lexer": "ipython3",
   "version": "3.10.12"
  }
 },
 "nbformat": 4,
 "nbformat_minor": 2
}
