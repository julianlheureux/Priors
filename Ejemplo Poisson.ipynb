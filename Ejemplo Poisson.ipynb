{
 "cells": [
  {
   "cell_type": "markdown",
   "metadata": {},
   "source": [
    "# Ejemplo de poisson"
   ]
  },
  {
   "cell_type": "code",
   "execution_count": null,
   "metadata": {},
   "outputs": [],
   "source": [
    "import numpy as np\n",
    "import pandas as pd\n",
    "\n",
    "# Set the random seed for reproducibility\n",
    "np.random.seed(65)\n",
    "\n",
    "# Number of observations\n",
    "n = 1000\n",
    "\n",
    "# Generate 5 explanatory variables from an exponential distribution\n",
    "X1 = np.random.normal(0,5,n)\n",
    "X2 = np.random.normal(2,5,n)\n",
    "X3 = np.random.normal(-4,3,n)\n",
    "X4 = np.random.normal(10,1,n)\n",
    "X5 = np.random.normal(8,2,n)\n",
    "\n",
    "# Combine into a single array\n",
    "X = np.column_stack([X1, X2, X3, X4, X5])\n",
    "\n",
    "# Coefficients for the Poisson regression\n",
    "beta = np.random.uniform(-3,3,5)\n",
    "\n",
    "# Linear predictor (log-link function)\n",
    "eta = X.dot(beta)\n",
    "\n",
    "# Poisson response variable\n",
    "y = np.random.poisson(lam=np.exp(eta))\n",
    "\n",
    "# Combine into a DataFrame\n",
    "data = pd.DataFrame(X, columns=['X1', 'X2', 'X3', 'X4', 'X5'])\n",
    "data['y'] = y\n",
    "\n",
    "# Display the first few rows of the DataFrame\n",
    "print(data.head())\n"
   ]
  },
  {
   "cell_type": "code",
   "execution_count": null,
   "metadata": {},
   "outputs": [],
   "source": [
    "import bambi as bmb\n",
    "import pandas as pd\n",
    "import numpy as np\n",
    "import arviz as az\n",
    "\n",
    "# Define the custom priors\n",
    "priors = {\n",
    "    'X1': bmb.Prior('Normal', mu=0, sigma=1),\n",
    "    'X2': bmb.Prior('Normal', mu=0, sigma=1),\n",
    "    'X3': bmb.Prior('Normal', mu=0, sigma=1),\n",
    "    'X4': bmb.Prior('Normal', mu=0, sigma=1),\n",
    "    'X5': bmb.Prior('Normal', mu=0, sigma=1),\n",
    "    'Intercept': bmb.Prior('Normal', mu=0, sigma=1)\n",
    "}\n",
    "\n",
    "# Define the model using Bambi with custom priors\n",
    "model = bmb.Model('y ~ X1 + X2 + X3 + X4 + X5', data, family='poisson')\n",
    "\n",
    "# Fit the model\n",
    "fitted_model = model.fit(draws=2000)\n",
    "\n",
    "# Print the summary of the posterior distributions\n",
    "print(fitted_model)\n"
   ]
  },
  {
   "cell_type": "code",
   "execution_count": null,
   "metadata": {},
   "outputs": [],
   "source": [
    "az.summary(fitted_model)"
   ]
  },
  {
   "cell_type": "code",
   "execution_count": null,
   "metadata": {},
   "outputs": [],
   "source": [
    "import numpy as np\n",
    "import pandas as pd\n",
    "import bambi as bmb\n",
    "\n",
    "# Set seed for reproducibility\n",
    "np.random.seed(42)\n",
    "\n",
    "# Simulate data\n",
    "n = 100  # Number of observations\n",
    "predictor1 = np.random.normal(0, 1, n)\n",
    "predictor2 = np.random.normal(0, 1, n)\n",
    "predictor3 = np.random.normal(0, 1, n)\n",
    "predictor4 = np.random.normal(0, 1, n)\n",
    "predictor5 = np.random.normal(0, 1, n)\n",
    "\n",
    "# True coefficients\n",
    "beta0 = -2.0\n",
    "beta1 = 0.5\n",
    "beta2 = -0.3\n",
    "beta3 = 0.2\n",
    "beta4 = -0.1\n",
    "beta5 = 0.1\n",
    "\n",
    "# Generate Poisson-distributed response variable with low frequency\n",
    "eta = (beta0 + beta1 * predictor1 + beta2 * predictor2 + beta3 * predictor3 +\n",
    "       beta4 * predictor4 + beta5 * predictor5)\n",
    "mu = np.exp(eta)\n",
    "claims = np.random.poisson(mu)\n",
    "\n",
    "# Create a DataFrame\n",
    "data = pd.DataFrame({\n",
    "    'claims': claims,\n",
    "    'predictor1': predictor1,\n",
    "    'predictor2': predictor2,\n",
    "    'predictor3': predictor3,\n",
    "    'predictor4': predictor4,\n",
    "    'predictor5': predictor5\n",
    "})\n",
    "\n",
    "# Fit the model with default priors\n",
    "model = bmb.Model(\n",
    "    \"claims ~ predictor1 + predictor2 + predictor3 + predictor4 + predictor5\",\n",
    "    data=data,\n",
    "    family=\"poisson\"\n",
    ")\n",
    "\n",
    "fitted_model = model.fit(draws=2000)\n",
    "\n",
    "\n",
    "\n"
   ]
  },
  {
   "cell_type": "code",
   "execution_count": null,
   "metadata": {},
   "outputs": [],
   "source": [
    "# Perform prior predictive checks\n",
    "ppc = model.prior_predictive(1000)\n",
    "\n",
    "# Summarize the prior predictive checks\n",
    "az.summary(ppc)\n"
   ]
  },
  {
   "cell_type": "code",
   "execution_count": null,
   "metadata": {},
   "outputs": [],
   "source": [
    "az.summary(fitted_model)"
   ]
  },
  {
   "cell_type": "code",
   "execution_count": null,
   "metadata": {},
   "outputs": [],
   "source": [
    "claims"
   ]
  },
  {
   "cell_type": "code",
   "execution_count": null,
   "metadata": {},
   "outputs": [],
   "source": [
    "from scipy.special import expit\n",
    "import matplotlib.pyplot as plt\n",
    "\n",
    "x = np.random.normal(size=100)\n",
    "a = 0.5\n",
    "b = 1\n",
    "\n",
    "eta = a+x*b\n",
    "\n",
    "p = expit(eta)\n",
    "\n",
    "plt.hist(p, bins=40);\n"
   ]
  },
  {
   "cell_type": "code",
   "execution_count": null,
   "metadata": {},
   "outputs": [],
   "source": [
    "x = 0.5\n",
    "a = np.random.normal(size = 1000, scale = 1)\n",
    "b = np.random.normal(size = 1000, scale = 1)\n",
    "\n",
    "eta = a+x*b\n",
    "\n",
    "p = expit(eta)\n",
    "\n",
    "plt.hist(p, bins=40);"
   ]
  },
  {
   "cell_type": "code",
   "execution_count": null,
   "metadata": {},
   "outputs": [],
   "source": [
    "x = 0.5\n",
    "a = np.random.normal(size = 1000, scale = 10)\n",
    "b = np.random.normal(size = 1000, scale = 10)\n",
    "\n",
    "eta = a+x*b\n",
    "\n",
    "p = expit(eta)\n",
    "\n",
    "plt.hist(p, bins = 40);\n",
    "plt.show()\n",
    "plt.hist(eta, bins = 40);"
   ]
  }
 ],
 "metadata": {
  "kernelspec": {
   "display_name": "Python 3 (ipykernel)",
   "language": "python",
   "name": "python3"
  },
  "language_info": {
   "codemirror_mode": {
    "name": "ipython",
    "version": 3
   },
   "file_extension": ".py",
   "mimetype": "text/x-python",
   "name": "python",
   "nbconvert_exporter": "python",
   "pygments_lexer": "ipython3",
   "version": "3.10.12"
  }
 },
 "nbformat": 4,
 "nbformat_minor": 2
}
